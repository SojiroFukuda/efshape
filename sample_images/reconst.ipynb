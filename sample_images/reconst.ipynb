{
 "cells": [
  {
   "cell_type": "code",
   "execution_count": 2,
   "metadata": {},
   "outputs": [],
   "source": [
    "from efshape import efa\n",
    "import numpy as np\n",
    "\n",
    "def find_index(lst, value):\n",
    "    for index, element in enumerate(lst):\n",
    "        if element == value:\n",
    "            return index\n",
    "    return -1  \n",
    "\n",
    "def create_random_contour(N: int, indexes: list,factors: list,base_factor: float=100,base_amp_ratio: float=100):\n",
    "    fps = np.random.rand(N)\n",
    "    for i, value in enumerate(fps):\n",
    "        if i in indexes:\n",
    "            ind_factor = find_index(indexes,i)\n",
    "            if i == 0:\n",
    "                fps[i] = 1 + factors[ind_factor]*np.random.rand()\n",
    "            else:\n",
    "                fps[i] = factors[ind_factor]*np.random.rand()\n",
    "        else:\n",
    "            fps[i] = fps[i]/(base_amp_ratio*np.power(10,base_factor*np.random.rand()))\n",
    "    x, y, t = efa.reconstContourCoord(N,fps,0)\n",
    "    return x, y, t\n",
    "\n",
    "def grid(row: int,col: int, x_interval: float,y_interval: float) -> tuple:\n",
    "    grid_x = (np.arange(row*col) % col) * x_interval\n",
    "    grid_x_2d = np.reshape(grid_x,(row,col))\n",
    "    \n",
    "    grid_y = np.ones((row,col))\n",
    "    yrow = np.arange(row) * y_interval\n",
    "    grid_y_2d = grid_y.T * yrow\n",
    "    grid_y_2d = grid_y_2d.T\n",
    "    \n",
    "    return (grid_x_2d, grid_y_2d)"
   ]
  },
  {
   "cell_type": "code",
   "execution_count": 11,
   "metadata": {},
   "outputs": [],
   "source": [
    "from matplotlib import pyplot as plt\n",
    "import os\n",
    "\n",
    "class contour(object):\n",
    "    def __init__(self) -> None:\n",
    "        pass\n",
    " \n",
    "SampleA_path = 'SampleA'\n",
    "os.makedirs(SampleA_path,exist_ok=True)   \n",
    "number_of_images = 10\n",
    "number_of_samples = 50\n",
    "N = 20\n",
    "indexes = [0,1,2,3]\n",
    "factors = [1,0.1,0.02,0]\n",
    "\n",
    "for i in range(number_of_images):\n",
    "    conts = []\n",
    "    for j in range(number_of_samples):\n",
    "        temp = contour()\n",
    "        x,y,t = create_random_contour(N,indexes=indexes,factors=factors,base_amp_ratio=500)\n",
    "        x = np.append(x,np.array([x[0]]))\n",
    "        y = np.append(y,np.array([y[0]]))\n",
    "        temp.x = x\n",
    "        temp.y = y\n",
    "        temp.t = t\n",
    "        conts.append(temp)\n",
    "        \n",
    "    fig, ax = plt.subplots(figsize=(20,40))\n",
    "    row = 10\n",
    "    col = 5\n",
    "    grid_x,grid_y = grid(row,col,5,5)\n",
    "    for j,cont in enumerate(conts):\n",
    "        r_ind = j // row\n",
    "        c_ind = j % row\n",
    "        ax.fill(cont.x + grid_x[c_ind][r_ind],cont.y + grid_y[c_ind][r_ind],color='black')\n",
    "\n",
    "    plt.gca().set_aspect('equal')\n",
    "    plt.axis('off')\n",
    "    plt.savefig(SampleA_path+os.sep+'A_'+str(i)+'.png',dpi=300)\n",
    "    plt.close()"
   ]
  },
  {
   "cell_type": "code",
   "execution_count": 13,
   "metadata": {},
   "outputs": [],
   "source": [
    "SampleB_path = 'SampleB'\n",
    "os.makedirs(SampleB_path,exist_ok=True)   \n",
    "number_of_images = 10\n",
    "number_of_samples = 50\n",
    "N = 20\n",
    "indexes = [0,1,2,3,4,5]\n",
    "factors = [3,0.1,0.04,0.01,0.001,0.003]\n",
    "\n",
    "for i in range(number_of_images):\n",
    "    conts = []\n",
    "    for j in range(number_of_samples):\n",
    "        temp = contour()\n",
    "        x,y,t = create_random_contour(N,indexes=indexes,factors=factors,base_amp_ratio=300)\n",
    "        x = np.append(x,np.array([x[0]]))\n",
    "        y = np.append(y,np.array([y[0]]))\n",
    "        temp.x = x\n",
    "        temp.y = y\n",
    "        temp.t = t\n",
    "        conts.append(temp)\n",
    "        \n",
    "    fig, ax = plt.subplots(figsize=(20,40))\n",
    "    row = 10\n",
    "    col = 5\n",
    "    grid_x,grid_y = grid(row,col,5,8)\n",
    "    for j,cont in enumerate(conts):\n",
    "        r_ind = j // row\n",
    "        c_ind = j % row\n",
    "        ax.fill(cont.x + grid_x[c_ind][r_ind],cont.y + grid_y[c_ind][r_ind],color='black')\n",
    "\n",
    "\n",
    "    plt.gca().set_aspect('equal')\n",
    "    plt.axis('off')\n",
    "    plt.savefig(SampleB_path+os.sep+'B_'+str(i)+'.png',dpi=300)\n",
    "    plt.close()"
   ]
  },
  {
   "cell_type": "code",
   "execution_count": 14,
   "metadata": {},
   "outputs": [],
   "source": [
    "SampleC_path = 'SampleC'\n",
    "os.makedirs(SampleC_path,exist_ok=True)   \n",
    "number_of_images = 10\n",
    "number_of_samples = 50\n",
    "N = 20\n",
    "indexes = [0,1,8]\n",
    "factors = [0,0.001,0.0001]\n",
    "\n",
    "for i in range(number_of_images):\n",
    "    conts = []\n",
    "    for j in range(number_of_samples):\n",
    "        temp = contour()\n",
    "        x,y,t = create_random_contour(N,indexes=indexes,factors=factors,base_amp_ratio=300)\n",
    "        x = np.append(x,np.array([x[0]]))\n",
    "        y = np.append(y,np.array([y[0]]))\n",
    "        temp.x = x\n",
    "        temp.y = y\n",
    "        temp.t = t\n",
    "        conts.append(temp)\n",
    "        \n",
    "    fig, ax = plt.subplots(figsize=(20,40))\n",
    "    row = 10\n",
    "    col = 5\n",
    "    grid_x,grid_y = grid(row,col,5,8)\n",
    "    for j,cont in enumerate(conts):\n",
    "        r_ind = j // row\n",
    "        c_ind = j % row\n",
    "        ax.fill(cont.x + grid_x[c_ind][r_ind],cont.y + grid_y[c_ind][r_ind],color='black')\n",
    "\n",
    "\n",
    "    plt.gca().set_aspect('equal')\n",
    "    plt.axis('off')\n",
    "    plt.savefig(SampleC_path+os.sep+'C_'+str(i)+'.png',dpi=300)\n",
    "    plt.close()"
   ]
  },
  {
   "cell_type": "code",
   "execution_count": 115,
   "metadata": {},
   "outputs": [
    {
     "name": "stdout",
     "output_type": "stream",
     "text": [
      "Python: 3.10.6 (main, Mar 10 2023, 10:55:28) [GCC 11.3.0]\n",
      "pandas ver. 1.5.0\n",
      "matplotlib ver. 3.7.1\n",
      "numpy ver. 1.23.3\n",
      "PyQt5 ver. 5.15.7\n"
     ]
    },
    {
     "ename": "",
     "evalue": "",
     "output_type": "error",
     "traceback": [
      "\u001b[1;31mCanceled future for execute_request message before replies were done"
     ]
    },
    {
     "ename": "",
     "evalue": "",
     "output_type": "error",
     "traceback": [
      "\u001b[1;31mThe Kernel crashed while executing code in the the current cell or a previous cell. Please review the code in the cell(s) to identify a possible cause of the failure. Click <a href='https://aka.ms/vscodeJupyterKernelCrash'>here</a> for more info. View Jupyter <a href='command:jupyter.viewOutput'>log</a> for further details."
     ]
    }
   ],
   "source": [
    "from efshape import efgui\n",
    "\n",
    "efgui.buildGUI()"
   ]
  },
  {
   "cell_type": "code",
   "execution_count": null,
   "metadata": {},
   "outputs": [],
   "source": []
  }
 ],
 "metadata": {
  "kernelspec": {
   "display_name": "Python 3",
   "language": "python",
   "name": "python3"
  },
  "language_info": {
   "codemirror_mode": {
    "name": "ipython",
    "version": 3
   },
   "file_extension": ".py",
   "mimetype": "text/x-python",
   "name": "python",
   "nbconvert_exporter": "python",
   "pygments_lexer": "ipython3",
   "version": "3.10.6"
  },
  "orig_nbformat": 4
 },
 "nbformat": 4,
 "nbformat_minor": 2
}
